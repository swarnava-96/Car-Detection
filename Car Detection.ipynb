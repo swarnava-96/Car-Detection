{
 "cells": [
  {
   "cell_type": "markdown",
   "id": "cea615f8",
   "metadata": {},
   "source": [
    "# Car Detection\n",
    "In this mini project I will use OpenCV and Haarcascade Classifier to detect Cars in a road recorded from a cctv footage."
   ]
  },
  {
   "cell_type": "code",
   "execution_count": 2,
   "id": "94b0bbc1",
   "metadata": {},
   "outputs": [],
   "source": [
    "# Importing the dependencies\n",
    "import cv2\n",
    "import numpy as np\n",
    "import time\n",
    "\n",
    "# Creating our body classifier\n",
    "car_classifier = cv2.CascadeClassifier(\"Haarcascades/haarcascade_car.xml\")\n",
    "\n",
    "# Initiating video capture for video file\n",
    "cap = cv2.VideoCapture(\"image_examples/cars.avi\")\n",
    "\n",
    "# Looping once video is successfully loaded\n",
    "while cap.isOpened():\n",
    "    time.sleep(.05)\n",
    "    \n",
    "    # Reading the first frame\n",
    "    ret, frame = cap.read()\n",
    "    gray = cv2.cvtColor(frame, cv2.COLOR_BGR2GRAY)\n",
    "    \n",
    "    # Passing frame to our classifier\n",
    "    cars = car_classifier.detectMultiScale(gray, 1.4, 2)\n",
    "    \n",
    "    # Extracting bounding boxes for any car identified\n",
    "    for (x,y,w,h) in cars:\n",
    "        cv2.rectangle(frame, (x,y), (x+w, y+h), (0,255,255), 2)\n",
    "        cv2.imshow(\"Cars\", frame)\n",
    "        \n",
    "    if cv2.waitKey(1) == 13:  # 13 is the enter key\n",
    "        break\n",
    "    \n",
    "cap.release()\n",
    "cv2.destroyAllWindows()"
   ]
  }
 ],
 "metadata": {
  "kernelspec": {
   "display_name": "Python 3 (ipykernel)",
   "language": "python",
   "name": "python3"
  },
  "language_info": {
   "codemirror_mode": {
    "name": "ipython",
    "version": 3
   },
   "file_extension": ".py",
   "mimetype": "text/x-python",
   "name": "python",
   "nbconvert_exporter": "python",
   "pygments_lexer": "ipython3",
   "version": "3.7.11"
  }
 },
 "nbformat": 4,
 "nbformat_minor": 5
}
